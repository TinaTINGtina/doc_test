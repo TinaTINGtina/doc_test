{
 "cells": [
  {
   "cell_type": "code",
   "execution_count": 7,
   "metadata": {},
   "outputs": [],
   "source": [
    "from tensorflow.keras.layers import Dense  # ← 匯入 Keras 的密集層類別\n",
    "from tensorflow.keras.models import Sequential  # ← 匯入 Keras 的序列式模型類別\n",
    "from tensorflow.keras.utils import to_categorical\n",
    "import matplotlib.pyplot as plt\n",
    "from tensorflow.keras.datasets import mnist\n",
    "import tensorflow as tf\n",
    "import os\n",
    "import sys\n",
    "import numpy as np"
   ]
  },
  {
   "cell_type": "code",
   "execution_count": 8,
   "metadata": {},
   "outputs": [],
   "source": [
    "#(train2_images, train2_labels), (test2_images, test2_labels) = mnist.load_data()"
   ]
  },
  {
   "cell_type": "code",
   "execution_count": 9,
   "metadata": {},
   "outputs": [
    {
     "name": "stdout",
     "output_type": "stream",
     "text": [
      "3.9.7 (default, Sep 16 2021, 16:59:28) [MSC v.1916 64 bit (AMD64)]\n",
      "2.5.1\n"
     ]
    },
    {
     "ename": "NameError",
     "evalue": "name 'cwd' is not defined",
     "output_type": "error",
     "traceback": [
      "\u001b[1;31m---------------------------------------------------------------------------\u001b[0m",
      "\u001b[1;31mNameError\u001b[0m                                 Traceback (most recent call last)",
      "\u001b[1;32mC:\\Users\\ADMINI~1\\AppData\\Local\\Temp/ipykernel_4620/1095021434.py\u001b[0m in \u001b[0;36m<module>\u001b[1;34m\u001b[0m\n\u001b[0;32m      2\u001b[0m \u001b[0mprint\u001b[0m\u001b[1;33m(\u001b[0m\u001b[0mtf\u001b[0m\u001b[1;33m.\u001b[0m\u001b[0m__version__\u001b[0m\u001b[1;33m)\u001b[0m \u001b[1;31m#打印出tensorflow版本號\u001b[0m\u001b[1;33m\u001b[0m\u001b[1;33m\u001b[0m\u001b[0m\n\u001b[0;32m      3\u001b[0m \u001b[1;31m#cwd = os.getcwd() #獲得現在所在的檔案路徑\u001b[0m\u001b[1;33m\u001b[0m\u001b[1;33m\u001b[0m\u001b[0m\n\u001b[1;32m----> 4\u001b[1;33m \u001b[0mprint\u001b[0m\u001b[1;33m(\u001b[0m\u001b[0mcwd\u001b[0m\u001b[1;33m)\u001b[0m\u001b[1;33m\u001b[0m\u001b[1;33m\u001b[0m\u001b[0m\n\u001b[0m\u001b[0;32m      5\u001b[0m \u001b[0mos\u001b[0m\u001b[1;33m.\u001b[0m\u001b[0mchdir\u001b[0m\u001b[1;33m(\u001b[0m\u001b[1;34m'D:/DL-37114'\u001b[0m\u001b[1;33m)\u001b[0m \u001b[1;31m#變更現在所在的檔案路徑成為 /Users/luruishan，同學練習時可以改為\"D:\\\"\u001b[0m\u001b[1;33m\u001b[0m\u001b[1;33m\u001b[0m\u001b[0m\n\u001b[0;32m      6\u001b[0m \u001b[0mprint\u001b[0m\u001b[1;33m(\u001b[0m\u001b[0mos\u001b[0m\u001b[1;33m.\u001b[0m\u001b[0mgetcwd\u001b[0m\u001b[1;33m(\u001b[0m\u001b[1;33m)\u001b[0m\u001b[1;33m)\u001b[0m \u001b[1;31m#重新獲得一次現在所在的檔案路徑\u001b[0m\u001b[1;33m\u001b[0m\u001b[1;33m\u001b[0m\u001b[0m\n",
      "\u001b[1;31mNameError\u001b[0m: name 'cwd' is not defined"
     ]
    }
   ],
   "source": [
    "print(sys.version)  #打印出我們現在使用的Python版本\n",
    "print(tf.__version__) #打印出tensorflow版本號\n",
    "#cwd = os.getcwd() #獲得現在所在的檔案路徑\n",
    "print(cwd)\n",
    "os.chdir('D:/DL-37114') #變更現在所在的檔案路徑成為 /Users/luruishan，同學練習時可以改為\"D:\\\"\n",
    "print(os.getcwd()) #重新獲得一次現在所在的檔案路徑"
   ]
  },
  {
   "cell_type": "code",
   "execution_count": 12,
   "metadata": {},
   "outputs": [],
   "source": [
    "# 載入 MNIST 資料集\n",
    "\n",
    "(train_images, train_labels), (test_images, test_labels) = mnist.load_data()"
   ]
  },
  {
   "cell_type": "code",
   "execution_count": null,
   "metadata": {},
   "outputs": [],
   "source": [
    "#(train_images, train_labels), (test_images, test_labels) = tf.keras.datasets.mnist.load_data()"
   ]
  },
  {
   "cell_type": "code",
   "execution_count": null,
   "metadata": {},
   "outputs": [
    {
     "data": {
      "image/png": "[encoded data removed]",
      "text/plain": [
       "<Figure size 1080x288 with 10 Axes>"
      ]
     },
     "metadata": {
      "needs_background": "light"
     },
     "output_type": "display_data"
    }
   ],
   "source": [
    "# 畫出手寫數字圖片\n",
    "\n",
    "plt.gcf( ).set_size_inches(15, 4)# ←設定圖形的寬和高 (英吋)\n",
    "for i in range(10):\n",
    "    ax = plt.subplot(2, 5, 1+i)  # ←設定 1x5 的子圖表, 目前要畫第 1+i 個\n",
    "    ax.imshow(train_images[i+1000], cmap='gray')  # ←顯示灰階圖片(黑底白字)\n",
    "    ax.set_title('label = '+str(train_labels[i+1000]), fontsize=22)  # ←設定標題\n",
    "plt.show()  # 將圖形顯示出來"
   ]
  },
  {
   "cell_type": "code",
   "execution_count": 18,
   "metadata": {},
   "outputs": [
    {
     "name": "stdout",
     "output_type": "stream",
     "text": [
      "(60000, 784)\n",
      "(784,)\n"
     ]
    }
   ],
   "source": [
    "# 前處理/預處理訓練資料\n",
    "# ←將 (60000,28,28) 轉換成 (60000,784)\n",
    "x_train = train_images.reshape((60000, 784))\n",
    "x_train = x_train.astype('float32') / 255  # ←再將 0~255 的像素值轉換成 0~1 的浮點數\n",
    "\n",
    "x_test = test_images.reshape((10000, 784))  # }←將 10000 筆測試樣本做同樣的轉換\n",
    "x_test = x_test.astype('float32') / 255  # }\n",
    "print(x_train.shape)\n",
    "print(x_train[0].shape)"
   ]
  },
  {
   "cell_type": "code",
   "execution_count": 13,
   "metadata": {},
   "outputs": [],
   "source": [
    "# 前處理/預處理標籤資料\n",
    "\n",
    "y_train = to_categorical(train_labels)  # ←將標籤做 One-hot 編碼\n",
    "y_test = to_categorical(test_labels)  # ←將測試做 One-hot 編碼\n"
   ]
  },
  {
   "cell_type": "code",
   "execution_count": 15,
   "metadata": {},
   "outputs": [],
   "source": [
    "# 程 建立多元分類模型\n",
    "\n",
    "model = Sequential()  # ← 建立序列模型物件\n",
    "model.add(Dense(512, activation='relu', input_dim=784))  # ← 加入第一層\n",
    "model.add(Dense(10, activation='softmax'))  # ← 加入第二層\n",
    "model.compile(optimizer='rmsprop',  # ← 指定優化器\n",
    "              loss='categorical_crossentropy',  # ← 指定損失函數\n",
    "              metrics=['acc'])  # ← 指定評量準則"
   ]
  },
  {
   "cell_type": "code",
   "execution_count": 16,
   "metadata": {},
   "outputs": [
    {
     "name": "stdout",
     "output_type": "stream",
     "text": [
      "Model: \"sequential\"\n",
      "_________________________________________________________________\n",
      "Layer (type)                 Output Shape              Param #   \n",
      "=================================================================\n",
      "dense (Dense)                (None, 512)               401920    \n",
      "_________________________________________________________________\n",
      "dense_1 (Dense)              (None, 10)                5130      \n",
      "=================================================================\n",
      "Total params: 407,050\n",
      "Trainable params: 407,050\n",
      "Non-trainable params: 0\n",
      "_________________________________________________________________\n"
     ]
    }
   ],
   "source": [
    "model.summary()"
   ]
  },
  {
   "cell_type": "code",
   "execution_count": 19,
   "metadata": {},
   "outputs": [
    {
     "name": "stdout",
     "output_type": "stream",
     "text": [
      "Epoch 1/10\n",
      "120/120 [==============================] - 1s 5ms/step - loss: 0.3966 - acc: 0.8858\n",
      "Epoch 2/10\n",
      "120/120 [==============================] - 1s 6ms/step - loss: 0.1726 - acc: 0.9502\n",
      "Epoch 3/10\n",
      "120/120 [==============================] - 1s 5ms/step - loss: 0.1172 - acc: 0.9658\n",
      "Epoch 4/10\n",
      "120/120 [==============================] - 1s 5ms/step - loss: 0.0867 - acc: 0.9748\n",
      "Epoch 5/10\n",
      "120/120 [==============================] - 1s 5ms/step - loss: 0.0679 - acc: 0.9801\n",
      "Epoch 6/10\n",
      "120/120 [==============================] - 1s 6ms/step - loss: 0.0536 - acc: 0.9846\n",
      "Epoch 7/10\n",
      "120/120 [==============================] - 1s 6ms/step - loss: 0.0429 - acc: 0.9878\n",
      "Epoch 8/10\n",
      "120/120 [==============================] - 1s 5ms/step - loss: 0.0360 - acc: 0.9900\n",
      "Epoch 9/10\n",
      "120/120 [==============================] - 1s 5ms/step - loss: 0.0285 - acc: 0.9925\n",
      "Epoch 10/10\n",
      "120/120 [==============================] - 1s 5ms/step - loss: 0.0235 - acc: 0.9940\n"
     ]
    }
   ],
   "source": [
    "# 程 訓練模型\n",
    "history = model.fit(x_train, y_train, epochs=10, batch_size=500)"
   ]
  },
  {
   "cell_type": "code",
   "execution_count": 20,
   "metadata": {},
   "outputs": [
    {
     "data": {
      "text/plain": [
       "{'loss': [0.3965722322463989,\n",
       "  0.17257872223854065,\n",
       "  0.11716675013303757,\n",
       "  0.0866684839129448,\n",
       "  0.0679427906870842,\n",
       "  0.05361693352460861,\n",
       "  0.04289522022008896,\n",
       "  0.03596341237425804,\n",
       "  0.028500918298959732,\n",
       "  0.023454315960407257],\n",
       " 'acc': [0.8857666850090027,\n",
       "  0.950166642665863,\n",
       "  0.9657666683197021,\n",
       "  0.9748166799545288,\n",
       "  0.9800833463668823,\n",
       "  0.9846166372299194,\n",
       "  0.9878000020980835,\n",
       "  0.9899500012397766,\n",
       "  0.9925000071525574,\n",
       "  0.9940166473388672]}"
      ]
     },
     "execution_count": 20,
     "metadata": {},
     "output_type": "execute_result"
    }
   ],
   "source": [
    "history.history"
   ]
  },
  {
   "cell_type": "code",
   "execution_count": 21,
   "metadata": {},
   "outputs": [
    {
     "data": {
      "image/png": "[encoded data removed]",
      "text/plain": [
       "<Figure size 432x288 with 1 Axes>"
      ]
     },
     "metadata": {
      "needs_background": "light"
     },
     "output_type": "display_data"
    }
   ],
   "source": [
    "#---- 以圖表來分析模型的訓練過程\n",
    "# 顯示訓練和驗證損失\n",
    "loss = history.history[\"loss\"]\n",
    "epochs = range(1, len(loss)+1)\n",
    "acc = history.history[\"acc\"]\n",
    "plt.plot(epochs, loss, \"bo-\", label=\"Training Loss\")\n",
    "plt.plot(epochs, acc, \"ro--\", label=\"Validation acc\")\n",
    "plt.title(\"Training and Validation Loss\")\n",
    "plt.xlabel(\"Epochs\")\n",
    "plt.ylabel(\"Loss\")\n",
    "plt.legend()\n",
    "plt.show()"
   ]
  },
  {
   "cell_type": "code",
   "execution_count": null,
   "metadata": {},
   "outputs": [
    {
     "name": "stdout",
     "output_type": "stream",
     "text": [
      "313/313 [==============================] - 0s 705us/step - loss: 0.1259 - acc: 0.9842\n",
      "對測試資料集的準確率： 0.9842000007629395\n"
     ]
    }
   ],
   "source": [
    "test_loss, test_acc = model.evaluate(x_test, y_test)  # ←使用測試樣本及標籤來評估普適能力\n",
    "print('對測試資料集的準確率：', test_acc)"
   ]
  },
  {
   "cell_type": "code",
   "execution_count": null,
   "metadata": {},
   "outputs": [
    {
     "data": {
      "text/plain": [
       "<KerasTensor: shape=(None, 784) dtype=float32 (created by layer 'dense_input')>"
      ]
     },
     "execution_count": 19,
     "metadata": {},
     "output_type": "execute_result"
    }
   ],
   "source": [
    "model.input"
   ]
  },
  {
   "cell_type": "code",
   "execution_count": null,
   "metadata": {},
   "outputs": [
    {
     "data": {
      "text/plain": [
       "<matplotlib.image.AxesImage at 0x17892054250>"
      ]
     },
     "execution_count": 20,
     "metadata": {},
     "output_type": "execute_result"
    },
    {
     "data": {
      "image/png": "[encoded data removed]",
      "text/plain": [
       "<Figure size 432x288 with 1 Axes>"
      ]
     },
     "metadata": {
      "needs_background": "light"
     },
     "output_type": "display_data"
    }
   ],
   "source": [
    "plt.imshow(test_images[0])"
   ]
  },
  {
   "cell_type": "code",
   "execution_count": null,
   "metadata": {},
   "outputs": [
    {
     "name": "stdout",
     "output_type": "stream",
     "text": [
      "[7]\n",
      "[[4.1508879e-27 1.0492048e-34 1.7825028e-22 1.4031428e-15 7.6294053e-36\n",
      "  5.5138811e-28 0.0000000e+00 1.0000000e+00 2.9519113e-26 1.3262465e-22]]\n",
      "7\n"
     ]
    }
   ],
   "source": [
    "# ←用測試樣本進行預測 傳入值必須有批次範圍 可以單張圖片 但是要以批次迭代表示法 例如：x_test[0:1] 來表示單張圖片\n",
    "# predict = model.predict_classes(x_test[0:1]) 已廢棄過時不要用\n",
    "predict =np.argmax(model.predict(x_test[0:1]), axis=-1)\n",
    "predict2 = model.predict(x_test[0:1])\n",
    "print(predict)\n",
    "print(predict2)\n",
    "print(np.argmax(predict2))\n"
   ]
  },
  {
   "cell_type": "code",
   "execution_count": null,
   "metadata": {},
   "outputs": [
    {
     "data": {
      "image/png": "[encoded data removed]",
      "text/plain": [
       "<Figure size 1080x288 with 5 Axes>"
      ]
     },
     "metadata": {},
     "output_type": "display_data"
    }
   ],
   "source": [
    "# 程 畫出測試圖片並標示預測結果與標準答案\n",
    "\n",
    "predict = np.argmax(model.predict(x_test), axis=-1)  # ←用測試樣本進行預測\n",
    "predict2 = model.predict(x_test)\n",
    "\n",
    "plt.gcf().set_size_inches(15, 4)  # ←設定圖形的尺吋\n",
    "for i in range(5):\n",
    "    ax = plt.subplot(1, 5, 1+i)  # ←設定 1x5 的子圖表, 目前要畫第 1+i 個\n",
    "    ax.imshow(test_images[i], cmap='binary')  # ←顯示灰階圖片\n",
    "    ax.set_title('label = '+str(test_labels[i]) +\n",
    "                 '\\npredi = '+str(predict[i]), fontsize=18)  # ←設定標題\n",
    "    ax.set_xticks([])\n",
    "    ax.set_yticks([])  # ←X, Y 軸不顯示刻度\n",
    "plt.show()  # ←將圖形顯示出來"
   ]
  },
  {
   "cell_type": "code",
   "execution_count": null,
   "metadata": {},
   "outputs": [],
   "source": [
    "# 程 將模型存檔\n",
    "model.save('MnistModel.h5')   #← 將模型以指定的檔名存檔\n"
   ]
  },
  {
   "cell_type": "code",
   "execution_count": null,
   "metadata": {},
   "outputs": [
    {
     "name": "stdout",
     "output_type": "stream",
     "text": [
      "(10000,)\n",
      "(10000,)\n"
     ]
    }
   ],
   "source": [
    "print(predict.shape)\n",
    "print(test_labels.shape)"
   ]
  },
  {
   "cell_type": "code",
   "execution_count": null,
   "metadata": {},
   "outputs": [
    {
     "data": {
      "text/html": [
       "<div>\n",
       "<style scoped>\n",
       "    .dataframe tbody tr th:only-of-type {\n",
       "        vertical-align: middle;\n",
       "    }\n",
       "\n",
       "    .dataframe tbody tr th {\n",
       "        vertical-align: top;\n",
       "    }\n",
       "\n",
       "    .dataframe thead th {\n",
       "        text-align: right;\n",
       "    }\n",
       "</style>\n",
       "<table border=\"1\" class=\"dataframe\">\n",
       "  <thead>\n",
       "    <tr style=\"text-align: right;\">\n",
       "      <th>predict</th>\n",
       "      <th>0</th>\n",
       "      <th>1</th>\n",
       "      <th>2</th>\n",
       "      <th>3</th>\n",
       "      <th>4</th>\n",
       "      <th>5</th>\n",
       "      <th>6</th>\n",
       "      <th>7</th>\n",
       "      <th>8</th>\n",
       "      <th>9</th>\n",
       "    </tr>\n",
       "    <tr>\n",
       "      <th>label</th>\n",
       "      <th></th>\n",
       "      <th></th>\n",
       "      <th></th>\n",
       "      <th></th>\n",
       "      <th></th>\n",
       "      <th></th>\n",
       "      <th></th>\n",
       "      <th></th>\n",
       "      <th></th>\n",
       "      <th></th>\n",
       "    </tr>\n",
       "  </thead>\n",
       "  <tbody>\n",
       "    <tr>\n",
       "      <th>0</th>\n",
       "      <td>972</td>\n",
       "      <td>1</td>\n",
       "      <td>1</td>\n",
       "      <td>0</td>\n",
       "      <td>1</td>\n",
       "      <td>1</td>\n",
       "      <td>2</td>\n",
       "      <td>1</td>\n",
       "      <td>1</td>\n",
       "      <td>0</td>\n",
       "    </tr>\n",
       "    <tr>\n",
       "      <th>1</th>\n",
       "      <td>0</td>\n",
       "      <td>1127</td>\n",
       "      <td>1</td>\n",
       "      <td>1</td>\n",
       "      <td>0</td>\n",
       "      <td>1</td>\n",
       "      <td>2</td>\n",
       "      <td>1</td>\n",
       "      <td>2</td>\n",
       "      <td>0</td>\n",
       "    </tr>\n",
       "    <tr>\n",
       "      <th>2</th>\n",
       "      <td>3</td>\n",
       "      <td>1</td>\n",
       "      <td>1013</td>\n",
       "      <td>1</td>\n",
       "      <td>1</td>\n",
       "      <td>0</td>\n",
       "      <td>2</td>\n",
       "      <td>3</td>\n",
       "      <td>7</td>\n",
       "      <td>1</td>\n",
       "    </tr>\n",
       "    <tr>\n",
       "      <th>3</th>\n",
       "      <td>0</td>\n",
       "      <td>0</td>\n",
       "      <td>3</td>\n",
       "      <td>995</td>\n",
       "      <td>0</td>\n",
       "      <td>3</td>\n",
       "      <td>0</td>\n",
       "      <td>2</td>\n",
       "      <td>3</td>\n",
       "      <td>4</td>\n",
       "    </tr>\n",
       "    <tr>\n",
       "      <th>4</th>\n",
       "      <td>2</td>\n",
       "      <td>0</td>\n",
       "      <td>2</td>\n",
       "      <td>1</td>\n",
       "      <td>965</td>\n",
       "      <td>0</td>\n",
       "      <td>3</td>\n",
       "      <td>2</td>\n",
       "      <td>1</td>\n",
       "      <td>6</td>\n",
       "    </tr>\n",
       "    <tr>\n",
       "      <th>5</th>\n",
       "      <td>2</td>\n",
       "      <td>0</td>\n",
       "      <td>0</td>\n",
       "      <td>7</td>\n",
       "      <td>1</td>\n",
       "      <td>873</td>\n",
       "      <td>4</td>\n",
       "      <td>1</td>\n",
       "      <td>2</td>\n",
       "      <td>2</td>\n",
       "    </tr>\n",
       "    <tr>\n",
       "      <th>6</th>\n",
       "      <td>3</td>\n",
       "      <td>2</td>\n",
       "      <td>0</td>\n",
       "      <td>1</td>\n",
       "      <td>3</td>\n",
       "      <td>5</td>\n",
       "      <td>944</td>\n",
       "      <td>0</td>\n",
       "      <td>0</td>\n",
       "      <td>0</td>\n",
       "    </tr>\n",
       "    <tr>\n",
       "      <th>7</th>\n",
       "      <td>0</td>\n",
       "      <td>1</td>\n",
       "      <td>8</td>\n",
       "      <td>2</td>\n",
       "      <td>1</td>\n",
       "      <td>0</td>\n",
       "      <td>0</td>\n",
       "      <td>1009</td>\n",
       "      <td>3</td>\n",
       "      <td>4</td>\n",
       "    </tr>\n",
       "    <tr>\n",
       "      <th>8</th>\n",
       "      <td>0</td>\n",
       "      <td>0</td>\n",
       "      <td>4</td>\n",
       "      <td>3</td>\n",
       "      <td>4</td>\n",
       "      <td>1</td>\n",
       "      <td>1</td>\n",
       "      <td>2</td>\n",
       "      <td>954</td>\n",
       "      <td>5</td>\n",
       "    </tr>\n",
       "    <tr>\n",
       "      <th>9</th>\n",
       "      <td>2</td>\n",
       "      <td>2</td>\n",
       "      <td>0</td>\n",
       "      <td>1</td>\n",
       "      <td>7</td>\n",
       "      <td>3</td>\n",
       "      <td>0</td>\n",
       "      <td>4</td>\n",
       "      <td>0</td>\n",
       "      <td>990</td>\n",
       "    </tr>\n",
       "  </tbody>\n",
       "</table>\n",
       "</div>"
      ],
      "text/plain": [
       "predict    0     1     2    3    4    5    6     7    8    9\n",
       "label                                                       \n",
       "0        972     1     1    0    1    1    2     1    1    0\n",
       "1          0  1127     1    1    0    1    2     1    2    0\n",
       "2          3     1  1013    1    1    0    2     3    7    1\n",
       "3          0     0     3  995    0    3    0     2    3    4\n",
       "4          2     0     2    1  965    0    3     2    1    6\n",
       "5          2     0     0    7    1  873    4     1    2    2\n",
       "6          3     2     0    1    3    5  944     0    0    0\n",
       "7          0     1     8    2    1    0    0  1009    3    4\n",
       "8          0     0     4    3    4    1    1     2  954    5\n",
       "9          2     2     0    1    7    3    0     4    0  990"
      ]
     },
     "execution_count": 26,
     "metadata": {},
     "output_type": "execute_result"
    }
   ],
   "source": [
    "#做出 測試集的預測結果與原始標籤的交叉比對表 共10000筆資料\n",
    "import pandas as pd\n",
    "pd.crosstab(test_labels, predict,rownames=[\"label\"], colnames=[\"predict\"])"
   ]
  },
  {
   "cell_type": "code",
   "execution_count": null,
   "metadata": {},
   "outputs": [],
   "source": [
    "# 預測結果與原始標籤的交叉比對表 輸出為html檔\n",
    "crosstab_result = pd.crosstab(test_labels, predict,rownames=[\"label\"], colnames=[\"predict\"])\n",
    "crosstab_result.to_html(\"mnist_crosstab.html\")"
   ]
  }
 ],
 "metadata": {
  "kernelspec": {
   "display_name": "Python 3.6.8 64-bit",
   "metadata": {
    "interpreter": {
     "hash": "05ece30799c2dcdac4c13b3af20453da19de8df0d9a1de52cff7e0b6e1e82bdd"
    }
   },
   "name": "python3"
  },
  "language_info": {
   "codemirror_mode": {
    "name": "ipython",
    "version": 3
   },
   "file_extension": ".py",
   "mimetype": "text/x-python",
   "name": "python",
   "nbconvert_exporter": "python",
   "pygments_lexer": "ipython3",
   "version": "3.9.7"
  },
  "orig_nbformat": 2
 },
 "nbformat": 4,
 "nbformat_minor": 2
}
